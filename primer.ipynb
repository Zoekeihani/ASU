{
 "cells": [
  {
   "cell_type": "markdown",
   "id": "54363133-67b5-44c1-a8a5-3bf7b42e84a4",
   "metadata": {},
   "source": [
    "## design primer:\n",
    "Length: 18-25 nucleotides.\n",
    "GC Content: 40-60%.\n",
    "Melting Temperature (Tm): Ideally between 50°C and 65°C. Primers used in the same PCR reaction should have similar Tm values."
   ]
  },
  {
   "cell_type": "raw",
   "id": "b27934b8-4bef-4963-9666-1a495f9c1bf0",
   "metadata": {},
   "source": [
    "# to design primer: \n",
    "1- define a target sequence.\n",
    "2- define the acceptable characters \n",
    "3- design primer size\n",
    "4- calculate GC percentage\n",
    "5- calculate the TM: Tm= (wA+xT) * 2 + (yG+zC) * 4\n",
    "For sequences longer than 13 nucleotides, the equation used is:\n",
    "Tm= 64.9 +41*(yG+zC-16.4)/(wA+xT+yG+zC)"
   ]
  },
  {
   "cell_type": "code",
   "execution_count": 77,
   "id": "3609c23e-ca27-4067-8a75-6c44717ba928",
   "metadata": {},
   "outputs": [
    {
     "name": "stdin",
     "output_type": "stream",
     "text": [
      "Enter the sequence:  aaattttcccgggggggggggggggggg\n"
     ]
    },
    {
     "name": "stdout",
     "output_type": "stream",
     "text": [
      "All characters are valid\n",
      "Error: Primer length should be between 18 to 25 nucleotides.\n",
      "CG content: 75.00% which is outside the optimal range (40% to 60%).\n",
      "Melting Temperature (Tm): 71.64°C\n"
     ]
    }
   ],
   "source": [
    "def main() :\n",
    "    user_input = input(\"Enter the sequence: \"). lower()\n",
    "    \n",
    "    count_a = user_input.count(\"a\")\n",
    "    count_t = user_input.count(\"t\")\n",
    "    count_c = user_input.count(\"c\")\n",
    "    count_g = user_input.count(\"g\")\n",
    "    \n",
    "    print(primer_char(user_input))\n",
    "    print(primer_size(user_input))\n",
    "    print(cg_content(user_input, count_g, count_c))\n",
    "    print(melting_tempreture(user_input, count_a, count_t, count_c, count_g))\n",
    "    \n",
    "def primer_char(user_input) :\n",
    "    valid_char = [\"a\", \"t\", \"c\", \"g\"]\n",
    "    for char in list(user_input) :\n",
    "        if char not in valid_char :\n",
    "            return \"Error: There is an invalid character in the sequence\"\n",
    "    return \"All characters are valid\"\n",
    "\n",
    "\n",
    "def primer_size(user_input) :\n",
    "    primer_length = len(user_input)\n",
    "    if 18 <= primer_length <= 25 :\n",
    "        return f\"OK, The primer length is {primer_length} nucleotides.\"\n",
    "    else :\n",
    "        return \"Error: Primer length should be between 18 to 25 nucleotides.\"\n",
    "\n",
    "def cg_content(user_input, count_g, count_c) :\n",
    "    cg_percentage = ((count_c + count_g) / len(user_input)) * 100\n",
    "    if 40 <= cg_percentage <= 60 :\n",
    "        return f\"CG content:{cg_percentage: 0.2f}% which is within the optimal range (40% to 60%).\"\n",
    "    else:\n",
    "        return f\"CG content:{cg_percentage: 0.2f}% which is outside the optimal range (40% to 60%).\"\n",
    "\n",
    "def melting_tempreture(user_input, count_a, count_t, count_c, count_g) :\n",
    "    if len(user_input) > 13 :\n",
    "        tm = 64.9 + (41 * ((count_g +count_c - 16.4) / len(user_input)))\n",
    "        return f\"Melting Temperature (Tm): {tm:.2f}°C\"\n",
    "    else: \n",
    "        tm = (count_a + count_t) * 2 + (count_g + count_c) * 4\n",
    "        return f\"Melting Temperature (Tm): {tm:.2f}°C\"\n",
    "       \n",
    "main()    \n",
    "    \n",
    "    \n",
    "    "
   ]
  },
  {
   "cell_type": "code",
   "execution_count": null,
   "id": "5ed926f6-eb74-4fff-a2e6-db325af5a68c",
   "metadata": {},
   "outputs": [],
   "source": []
  }
 ],
 "metadata": {
  "kernelspec": {
   "display_name": "Python 3 (ipykernel)",
   "language": "python",
   "name": "python3"
  },
  "language_info": {
   "codemirror_mode": {
    "name": "ipython",
    "version": 3
   },
   "file_extension": ".py",
   "mimetype": "text/x-python",
   "name": "python",
   "nbconvert_exporter": "python",
   "pygments_lexer": "ipython3",
   "version": "3.11.0"
  }
 },
 "nbformat": 4,
 "nbformat_minor": 5
}
